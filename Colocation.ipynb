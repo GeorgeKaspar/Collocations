{
 "cells": [
  {
   "cell_type": "code",
   "execution_count": 418,
   "metadata": {
    "collapsed": true
   },
   "outputs": [],
   "source": [
    "import sys\n",
    "#import h5py\n",
    "import numpy as np\n",
    "import operator\n",
    "import pandas\n",
    "import pymorphy2\n",
    "import math\n",
    "from scipy.stats.distributions import binom"
   ]
  },
  {
   "cell_type": "markdown",
   "metadata": {},
   "source": [
    "# Определяем входные данные\n",
    "Наши входные данные это новостной массив за 2014 год."
   ]
  },
  {
   "cell_type": "code",
   "execution_count": 2,
   "metadata": {
    "collapsed": true
   },
   "outputs": [],
   "source": [
    "input_path  = './data/' \n",
    "input_file = input_path + 'news_src.txt' "
   ]
  },
  {
   "cell_type": "markdown",
   "metadata": {},
   "source": [
    "--------------------\n",
    "I - Frequency\n",
    "====="
   ]
  },
  {
   "cell_type": "markdown",
   "metadata": {},
   "source": [
    "<h2> Итерируемся по файлу и подсчитываем частотность вхождения биграмм</h2><br>\n",
    "<li>Биграммой считаем пару слов, следующих друг за другом. <br>\n",
    "<li>Подсчитаем количество биграмм в первом миллионе\n",
    "<br>\n",
    "<hr>\n",
    "Каждая строка файла представляет один документ. Первое поле урл документа, все остальное это документ. Урл отделен табуляцией. Предложения также разделены табуляциями. Термы в предложениях нормализованы.  "
   ]
  },
  {
   "cell_type": "code",
   "execution_count": 63,
   "metadata": {},
   "outputs": [],
   "source": [
    "\n",
    "#\n",
    "# получить набор биграмм согласно заданным параметрам\n",
    "# use_pos - используем часть речи при подсчете\n",
    "# \n",
    "#\n",
    "def get_bigram_set(input_file, max_row_count=1e+6):\n",
    "    bigramm_set = {}\n",
    "    with open(input_file) as ifile:\n",
    "        # итерация по всем документам\n",
    "        for i, line in enumerate(ifile):\n",
    "            parts = line.strip().split('\\t')\n",
    "            url = parts[0] # первое поле урл\n",
    "            # пропускаем пустые документы\n",
    "            if len(parts) <=1 : continue\n",
    "            # \n",
    "            for j, sentens in enumerate(parts[1:]):\n",
    "                sent = sentens.strip().split()\n",
    "                slen = len(sent)\n",
    "                if slen == 0: continue\n",
    "                ar = []\n",
    "                for iw, w in enumerate(sent):\n",
    "                    if iw + 1 < slen:\n",
    "                        bigram = w + ' ' + sent[iw+1]\n",
    "                        if bigram not in bigramm_set:\n",
    "                            bigramm_set[bigram] = 0\n",
    "                        bigramm_set[bigram] = bigramm_set[bigram] + 1 \n",
    "\n",
    "            sys.stderr.write('\\r'+str(i) + \" total bigram: \" + str(len(bigramm_set)))\n",
    "            if i == max_row_count:\n",
    "                break\n",
    "    return bigramm_set               "
   ]
  },
  {
   "cell_type": "code",
   "execution_count": 37,
   "metadata": {
    "collapsed": true
   },
   "outputs": [],
   "source": [
    "##\n",
    "## Получаем таблицу pandas из набора биграм, отсортированную по частотности\n",
    "##\n",
    "def get_pandas_table(bigramm_set, top_n = 20):\n",
    "    sorted_bigrams = sorted(bigramm_set.items(), key=operator.itemgetter(1), reverse=True)\n",
    "    ####\n",
    "    # Отбираем топ 20\n",
    "    ###\n",
    "    top_20_names = []\n",
    "    top_20_vaues = []\n",
    "    for i, k in enumerate(sorted_bigrams):\n",
    "        top_20_names.append(k[0]) \n",
    "        top_20_vaues.append(k[1])\n",
    "        if i == 20 : \n",
    "            break\n",
    "    ###        \n",
    "    # Делаем таблицу pandas\n",
    "    ###\n",
    "    dt = ['Частота']\n",
    "    values = np.asarray(top_20_vaues)\n",
    "    index = top_20_names\n",
    "    return pandas.DataFrame(values, index=index, columns=dt)    "
   ]
  },
  {
   "cell_type": "markdown",
   "metadata": {},
   "source": [
    "<h2>Сначал пытаемся отобрать самые частотные биграммы и выводим топ 20 самых частотных биграмм</h2>"
   ]
  },
  {
   "cell_type": "code",
   "execution_count": 39,
   "metadata": {},
   "outputs": [
    {
     "name": "stderr",
     "output_type": "stream",
     "text": [
      "1000000 total bigram: 18803442"
     ]
    }
   ],
   "source": [
    "bigramm_set = get_bigram_set(input_file)\n",
    "\n"
   ]
  },
  {
   "cell_type": "markdown",
   "metadata": {},
   "source": [
    "<b> Используем для этого pandas\n"
   ]
  },
  {
   "cell_type": "code",
   "execution_count": 61,
   "metadata": {},
   "outputs": [
    {
     "data": {
      "text/html": [
       "<div>\n",
       "<table border=\"1\" class=\"dataframe\">\n",
       "  <thead>\n",
       "    <tr style=\"text-align: right;\">\n",
       "      <th></th>\n",
       "      <th>Частота</th>\n",
       "    </tr>\n",
       "  </thead>\n",
       "  <tbody>\n",
       "    <tr>\n",
       "      <th>о это</th>\n",
       "      <td>184456</td>\n",
       "    </tr>\n",
       "    <tr>\n",
       "      <th>один из</th>\n",
       "      <td>179537</td>\n",
       "    </tr>\n",
       "    <tr>\n",
       "      <th>а также</th>\n",
       "      <td>154665</td>\n",
       "    </tr>\n",
       "    <tr>\n",
       "      <th>2015 год</th>\n",
       "      <td>151915</td>\n",
       "    </tr>\n",
       "    <tr>\n",
       "      <th>тот что</th>\n",
       "      <td>150860</td>\n",
       "    </tr>\n",
       "    <tr>\n",
       "      <th>в тот</th>\n",
       "      <td>141986</td>\n",
       "    </tr>\n",
       "    <tr>\n",
       "      <th>что в</th>\n",
       "      <td>140030</td>\n",
       "    </tr>\n",
       "    <tr>\n",
       "      <th>пресс служба</th>\n",
       "      <td>129071</td>\n",
       "    </tr>\n",
       "    <tr>\n",
       "      <th>и в</th>\n",
       "      <td>117989</td>\n",
       "    </tr>\n",
       "    <tr>\n",
       "      <th>в это</th>\n",
       "      <td>113372</td>\n",
       "    </tr>\n",
       "    <tr>\n",
       "      <th>не быть</th>\n",
       "      <td>107302</td>\n",
       "    </tr>\n",
       "    <tr>\n",
       "      <th>отметить что</th>\n",
       "      <td>105764</td>\n",
       "    </tr>\n",
       "    <tr>\n",
       "      <th>при это</th>\n",
       "      <td>99549</td>\n",
       "    </tr>\n",
       "    <tr>\n",
       "      <th>о тот</th>\n",
       "      <td>94086</td>\n",
       "    </tr>\n",
       "    <tr>\n",
       "      <th>из за</th>\n",
       "      <td>92835</td>\n",
       "    </tr>\n",
       "    <tr>\n",
       "      <th>в один</th>\n",
       "      <td>87961</td>\n",
       "    </tr>\n",
       "    <tr>\n",
       "      <th>в свой</th>\n",
       "      <td>85756</td>\n",
       "    </tr>\n",
       "    <tr>\n",
       "      <th>кроме тот</th>\n",
       "      <td>84919</td>\n",
       "    </tr>\n",
       "    <tr>\n",
       "      <th>в время</th>\n",
       "      <td>84685</td>\n",
       "    </tr>\n",
       "    <tr>\n",
       "      <th>в рамка</th>\n",
       "      <td>84616</td>\n",
       "    </tr>\n",
       "    <tr>\n",
       "      <th>по слово</th>\n",
       "      <td>83970</td>\n",
       "    </tr>\n",
       "  </tbody>\n",
       "</table>\n",
       "</div>"
      ],
      "text/plain": [
       "              Частота\n",
       "о это          184456\n",
       "один из        179537\n",
       "а также        154665\n",
       "2015 год       151915\n",
       "тот что        150860\n",
       "в тот          141986\n",
       "что в          140030\n",
       "пресс служба   129071\n",
       "и в            117989\n",
       "в это          113372\n",
       "не быть        107302\n",
       "отметить что   105764\n",
       "при это         99549\n",
       "о тот           94086\n",
       "из за           92835\n",
       "в один          87961\n",
       "в свой          85756\n",
       "кроме тот       84919\n",
       "в время         84685\n",
       "в рамка         84616\n",
       "по слово        83970"
      ]
     },
     "execution_count": 61,
     "metadata": {},
     "output_type": "execute_result"
    }
   ],
   "source": [
    "get_pandas_table(bigramm_set)"
   ]
  },
  {
   "cell_type": "markdown",
   "metadata": {},
   "source": [
    "<h2>Теперь используем информацию о частях речи</h2>\n",
    "<li>**AN** - прилагательное + существительное\n",
    "<li>**NN** - существительное + существительное \n",
    "\n",
    "<br>Для простоты считаем биграмы двоек, тройки игнорируем:\n",
    "\n",
    "<li>**AAN**\n",
    "<li>**ANN**\n",
    "<li>**NNN**\n",
    "<li>**NPN** - существительное + предлог + существительное"
   ]
  },
  {
   "cell_type": "code",
   "execution_count": 59,
   "metadata": {},
   "outputs": [],
   "source": [
    "####\n",
    "## Хелпер для мапирования слов в части речи  \n",
    "##№\n",
    "class POSTagger:\n",
    "    __stemmer = pymorphy2.MorphAnalyzer()\n",
    "    __cache = {}\n",
    "    def parse(self, token):\n",
    "        form = ('', '')\n",
    "        if token not in self.__cache:\n",
    "            res = self.__stemmer.parse(token)[0]\n",
    "            form = ( res.normal_form, res.tag.POS )\n",
    "            self.__cache[token] = form\n",
    "        else :\n",
    "            form = self.__cache[token]\n",
    "        return form[1]\n",
    "pos_tagger = POSTagger()\n",
    "\n",
    "#\n",
    "# получить набор биграмм согласно заданным параметрам\n",
    "# use_pos - используем часть речи при подсчете\n",
    "# \n",
    "#\n",
    "def get_pos_bigram_set(input_file, max_row_count=1e+6):\n",
    "    bigramm_set = {}\n",
    "    with open(input_file) as ifile:\n",
    "        # итерация по всем документам\n",
    "        for i, line in enumerate(ifile):\n",
    "            parts = line.strip().split('\\t')\n",
    "            url = parts[0] # первое поле урл\n",
    "            # пропускаем пустые документы\n",
    "            if len(parts) <=1 : continue\n",
    "            # \n",
    "            for j, sentens in enumerate(parts[1:]):\n",
    "                sent = sentens.strip().split()\n",
    "                slen = len(sent)\n",
    "                if slen == 0: continue\n",
    "                sent = [ ss.decode('utf-8') for ss in sent]\n",
    "                ar = []\n",
    "                for iw, w in enumerate(sent):\n",
    "                    if iw + 1 < slen:\n",
    "                        pos1 = pos_tagger.parse(w)\n",
    "                        pos2 = pos_tagger.parse(sent[iw+1])\n",
    "                        if (pos1 == 'ADJF' or pos1 == 'NOUN') and pos2 == 'NOUN':\n",
    "                            bigram = w + ' ' + sent[iw+1]\n",
    "                            if bigram not in bigramm_set:\n",
    "                                bigramm_set[bigram] = 0\n",
    "                            bigramm_set[bigram] = bigramm_set[bigram] + 1 \n",
    "\n",
    "            sys.stderr.write('\\r'+str(i) + \" total bigram: \" + str(len(bigramm_set)))\n",
    "            if i == max_row_count:\n",
    "                break\n",
    "    return bigramm_set       "
   ]
  },
  {
   "cell_type": "markdown",
   "metadata": {},
   "source": [
    " --- Эту переменную будем использовать дальше, она содержит статистику по биграммам нашего массива ---"
   ]
  },
  {
   "cell_type": "code",
   "execution_count": 60,
   "metadata": {},
   "outputs": [
    {
     "name": "stderr",
     "output_type": "stream",
     "text": [
      "1000000 total bigram: 4685306"
     ]
    }
   ],
   "source": [
    "pos_bigramm_set = get_pos_bigram_set(input_file)"
   ]
  },
  {
   "cell_type": "code",
   "execution_count": 62,
   "metadata": {},
   "outputs": [
    {
     "data": {
      "text/html": [
       "<div>\n",
       "<table border=\"1\" class=\"dataframe\">\n",
       "  <thead>\n",
       "    <tr style=\"text-align: right;\">\n",
       "      <th></th>\n",
       "      <th>Частота</th>\n",
       "    </tr>\n",
       "  </thead>\n",
       "  <tbody>\n",
       "    <tr>\n",
       "      <th>пресс служба</th>\n",
       "      <td>129071</td>\n",
       "    </tr>\n",
       "    <tr>\n",
       "      <th>тот число</th>\n",
       "      <td>69728</td>\n",
       "    </tr>\n",
       "    <tr>\n",
       "      <th>уголовный дело</th>\n",
       "      <td>57108</td>\n",
       "    </tr>\n",
       "    <tr>\n",
       "      <th>риа новость</th>\n",
       "      <td>54353</td>\n",
       "    </tr>\n",
       "    <tr>\n",
       "      <th>миллион рубль</th>\n",
       "      <td>52868</td>\n",
       "    </tr>\n",
       "    <tr>\n",
       "      <th>настоящее время</th>\n",
       "      <td>44442</td>\n",
       "    </tr>\n",
       "    <tr>\n",
       "      <th>миллиард рубль</th>\n",
       "      <td>44368</td>\n",
       "    </tr>\n",
       "    <tr>\n",
       "      <th>прошлое год</th>\n",
       "      <td>43679</td>\n",
       "    </tr>\n",
       "    <tr>\n",
       "      <th>владимир путин</th>\n",
       "      <td>41806</td>\n",
       "    </tr>\n",
       "    <tr>\n",
       "      <th>российский федерация</th>\n",
       "      <td>37965</td>\n",
       "    </tr>\n",
       "    <tr>\n",
       "      <th>такой образ</th>\n",
       "      <td>36246</td>\n",
       "    </tr>\n",
       "    <tr>\n",
       "      <th>премьер министр</th>\n",
       "      <td>33102</td>\n",
       "    </tr>\n",
       "    <tr>\n",
       "      <th>тысяча рубль</th>\n",
       "      <td>29209</td>\n",
       "    </tr>\n",
       "    <tr>\n",
       "      <th>санкт петербург</th>\n",
       "      <td>28120</td>\n",
       "    </tr>\n",
       "    <tr>\n",
       "      <th>данный момент</th>\n",
       "      <td>26737</td>\n",
       "    </tr>\n",
       "    <tr>\n",
       "      <th>главный тренер</th>\n",
       "      <td>26123</td>\n",
       "    </tr>\n",
       "    <tr>\n",
       "      <th>свой очередь</th>\n",
       "      <td>25659</td>\n",
       "    </tr>\n",
       "    <tr>\n",
       "      <th>лига чемпион</th>\n",
       "      <td>24811</td>\n",
       "    </tr>\n",
       "    <tr>\n",
       "      <th>текущий год</th>\n",
       "      <td>23198</td>\n",
       "    </tr>\n",
       "    <tr>\n",
       "      <th>правоохранительный орган</th>\n",
       "      <td>22737</td>\n",
       "    </tr>\n",
       "    <tr>\n",
       "      <th>официальный сайт</th>\n",
       "      <td>21728</td>\n",
       "    </tr>\n",
       "  </tbody>\n",
       "</table>\n",
       "</div>"
      ],
      "text/plain": [
       "                          Частота\n",
       "пресс служба               129071\n",
       "тот число                   69728\n",
       "уголовный дело              57108\n",
       "риа новость                 54353\n",
       "миллион рубль               52868\n",
       "настоящее время             44442\n",
       "миллиард рубль              44368\n",
       "прошлое год                 43679\n",
       "владимир путин              41806\n",
       "российский федерация        37965\n",
       "такой образ                 36246\n",
       "премьер министр             33102\n",
       "тысяча рубль                29209\n",
       "санкт петербург             28120\n",
       "данный момент               26737\n",
       "главный тренер              26123\n",
       "свой очередь                25659\n",
       "лига чемпион                24811\n",
       "текущий год                 23198\n",
       "правоохранительный орган    22737\n",
       "официальный сайт            21728"
      ]
     },
     "execution_count": 62,
     "metadata": {},
     "output_type": "execute_result"
    }
   ],
   "source": [
    "get_pandas_table(pos_bigramm_set)"
   ]
  },
  {
   "cell_type": "markdown",
   "metadata": {
    "collapsed": true
   },
   "source": [
    "------------------\n",
    "II - Mean and Variance\n",
    "====="
   ]
  },
  {
   "cell_type": "markdown",
   "metadata": {},
   "source": [
    "** Подсчитаем распределение одного слова относительно другого ** <br>\n",
    "Строим гистограммы распределений."
   ]
  },
  {
   "cell_type": "code",
   "execution_count": 116,
   "metadata": {
    "collapsed": true
   },
   "outputs": [],
   "source": [
    "#\n",
    "# Ищем распределение по ппозициям двух слов\n",
    "# word 1 - базовое\n",
    "# word 2 - сопровождающее \n",
    "# \n",
    "#\n",
    "def get_distrib_bigram_set(input_file, word1, word2, win=3, max_row_count=1e+6):\n",
    "    bigramm_set = {}\n",
    "    with open(input_file) as ifile:\n",
    "        # итерация по всем документам\n",
    "        for i, line in enumerate(ifile):\n",
    "            parts = line.strip().split('\\t')\n",
    "            url = parts[0] # первое поле урл\n",
    "            # пропускаем пустые документы\n",
    "            if len(parts) <=1 : continue\n",
    "            # \n",
    "            for j, sentens in enumerate(parts[1:]):\n",
    "                sent = sentens.strip().split()\n",
    "                slen = len(sent)\n",
    "                if slen == 0: continue\n",
    "                ar  = {}\n",
    "                ar[word1] = []\n",
    "                ar[word2] = []\n",
    "                sent = [ ss.decode('utf-8') for ss in sent]\n",
    "                for iw, w in enumerate(sent):\n",
    "                    if w in ar:\n",
    "                        ar[w].append(iw)\n",
    "                minpos = 99999\n",
    "                rpos   = 0 \n",
    "                for w1pos in ar[word1]:\n",
    "                    for w2pos in ar[word2]:\n",
    "                        rpos = w2pos - w1pos\n",
    "                        if abs(rpos) <= win:\n",
    "                            if minpos >  abs(rpos):\n",
    "                                minpos = abs(rpos)\n",
    "                if minpos < 99999:\n",
    "                    if rpos not in bigramm_set:\n",
    "                        bigramm_set[rpos] = 0\n",
    "                    bigramm_set[rpos] = bigramm_set[rpos] + 1\n",
    "                                \n",
    "            sys.stderr.write('\\r'+str(i) + \" total bigram: \" + str(len(bigramm_set)))\n",
    "            if i == max_row_count:\n",
    "                break\n",
    "    return bigramm_set"
   ]
  },
  {
   "cell_type": "code",
   "execution_count": 163,
   "metadata": {},
   "outputs": [],
   "source": [
    "# -------------\n",
    "# Строим гистограммы распределений\n",
    "# -------------\n",
    "import matplotlib.pyplot as plt\n",
    "%matplotlib inline\n",
    "\n",
    "def draw_distrib(distrib, w1, w2):\n",
    "    fig = plt.gcf()\n",
    "    fig.set_size_inches(10, 2)\n",
    "    sorted_distrib = sorted(distrib.items(), key=operator.itemgetter(0))\n",
    "    plt.bar(range(len(distrib)), [d[1] for d in sorted_distrib], align='center')\n",
    "    plt.xticks(range(len(distrib)), [d[0] for d in sorted_distrib] )\n",
    "    values = []\n",
    "    for v in sorted_distrib:\n",
    "        v = [v[0]] * v[1]\n",
    "        values.extend(v) \n",
    "    print 'mean:' + '%.2f'%np.mean(values) + \" std: \" + '%.2f'%np.std(values)  + '/ (' + w1 + ' ' + w2 + ')'\n",
    "\n",
    "    plt.show()"
   ]
  },
  {
   "cell_type": "markdown",
   "metadata": {},
   "source": [
    "----------------\n",
    "** Первая пара слов *'волатильность'  и 'сильный'* **"
   ]
  },
  {
   "cell_type": "code",
   "execution_count": 117,
   "metadata": {},
   "outputs": [
    {
     "name": "stderr",
     "output_type": "stream",
     "text": [
      "1000000 total bigram: 4"
     ]
    }
   ],
   "source": [
    "distrib = get_distrib_bigram_set(input_file, u'волатильность', u'сильный')"
   ]
  },
  {
   "cell_type": "code",
   "execution_count": 164,
   "metadata": {},
   "outputs": [
    {
     "name": "stdout",
     "output_type": "stream",
     "text": [
      "mean:-1.02 std: 0.52/ (волатильность сильный)\n"
     ]
    },
    {
     "data": {
      "image/png": "[encoded data removed]",
      "text/plain": [
       "<matplotlib.figure.Figure at 0x96277e10>"
      ]
     },
     "metadata": {},
     "output_type": "display_data"
    }
   ],
   "source": [
    "draw_distrib(distrib, u'волатильность', u'сильный')"
   ]
  },
  {
   "cell_type": "markdown",
   "metadata": {},
   "source": [
    "----------------\n",
    "**  *'поддержка'  и 'сильный'* **"
   ]
  },
  {
   "cell_type": "code",
   "execution_count": 142,
   "metadata": {
    "scrolled": true
   },
   "outputs": [
    {
     "name": "stderr",
     "output_type": "stream",
     "text": [
      "1000000 total bigram: 9"
     ]
    }
   ],
   "source": [
    "distrib_2 = get_distrib_bigram_set(input_file, u'поддержка', u'сильный')"
   ]
  },
  {
   "cell_type": "code",
   "execution_count": 165,
   "metadata": {},
   "outputs": [
    {
     "name": "stdout",
     "output_type": "stream",
     "text": [
      "mean:-1.10 std: 1.74/ (поддержка сильный)\n"
     ]
    },
    {
     "data": {
      "image/png": "[encoded data removed]",
      "text/plain": [
       "<matplotlib.figure.Figure at 0x96277e50>"
      ]
     },
     "metadata": {},
     "output_type": "display_data"
    }
   ],
   "source": [
    "draw_distrib(distrib_2, u'поддержка', u'сильный')"
   ]
  },
  {
   "cell_type": "markdown",
   "metadata": {},
   "source": [
    "----------------\n",
    "**  *'для'  и 'сильный'* **"
   ]
  },
  {
   "cell_type": "code",
   "execution_count": 130,
   "metadata": {},
   "outputs": [
    {
     "name": "stderr",
     "output_type": "stream",
     "text": [
      "1000000 total bigram: 23"
     ]
    }
   ],
   "source": [
    "distrib_3 = get_distrib_bigram_set(input_file, u'для', u'сильный')"
   ]
  },
  {
   "cell_type": "code",
   "execution_count": 166,
   "metadata": {},
   "outputs": [
    {
     "name": "stdout",
     "output_type": "stream",
     "text": [
      "mean:-0.75 std: 3.84/ (для сильный)\n"
     ]
    },
    {
     "data": {
      "image/png": "[encoded data removed]",
      "text/plain": [
       "<matplotlib.figure.Figure at 0x96587850>"
      ]
     },
     "metadata": {},
     "output_type": "display_data"
    }
   ],
   "source": [
    "draw_distrib(distrib_3, u'для', u'сильный')"
   ]
  },
  {
   "cell_type": "markdown",
   "metadata": {},
   "source": [
    "## Топ 12 биграм среднее и стандартное отклонение\n",
    "Считаем среднее и дисперсию для топ 12 биграмм полученных в предыдущем разделе"
   ]
  },
  {
   "cell_type": "code",
   "execution_count": 168,
   "metadata": {},
   "outputs": [],
   "source": [
    "top_bigrams_for_check = get_pandas_table(pos_bigramm_set)"
   ]
  },
  {
   "cell_type": "markdown",
   "metadata": {},
   "source": [
    " ** Определяем методы подсета ** "
   ]
  },
  {
   "cell_type": "code",
   "execution_count": 251,
   "metadata": {},
   "outputs": [],
   "source": [
    "def calculate_top_distribs():\n",
    "    top_distribs = {}\n",
    "    for i, bigram in enumerate(top_bigrams_for_check.index):\n",
    "        if i == 12: break\n",
    "        top_distribs[bigram] = get_distrib_bigram_set(input_file, bigram.split()[1], bigram.split()[0])\n",
    "    return top_distribs\n",
    "\n",
    "##\n",
    "## Получаем таблицу pandas из набора биграм, отсортированную по частотности\n",
    "##\n",
    "def get_pandas_table_for_mean_and_std(bigramm_set):\n",
    "    sorted_bigrams = sorted(bigramm_set.items(), key=operator.itemgetter(1), reverse=True)\n",
    "    ####\n",
    "    # Отбираем топ 20\n",
    "    ###\n",
    "    top_20_names = []\n",
    "    top_20_vaues = []\n",
    "    for i, k in enumerate(sorted_bigrams):\n",
    "        top_20_names.append(k[0]) \n",
    "        top_20_vaues.append([k[1][0], k[1][1], k[1][2]])\n",
    "    ###        \n",
    "    # Делаем таблицу pandas\n",
    "    ###\n",
    "    dt = ['Частота', 'Mean', 'Std']\n",
    "    values = np.asarray(top_20_vaues)\n",
    "    index = top_20_names\n",
    "    return pandas.DataFrame(values, index=index, columns=dt) \n",
    "\n",
    "def calculate_mean_and_variance(top_distribs, top_bigrams):\n",
    "    bigramm_set = {}\n",
    "    for i, bigram in enumerate(top_distribs.keys()):\n",
    "        values = []\n",
    "        for v in top_distribs[bigram].items():\n",
    "            v = [v[0]] * v[1]\n",
    "            values.extend(v)\n",
    "        bigramm_set[bigram] = ( top_bigrams[bigram],  np.mean(values), np.std(values) )\n",
    "    return bigramm_set"
   ]
  },
  {
   "cell_type": "markdown",
   "metadata": {},
   "source": [
    " * Считаем распределения"
   ]
  },
  {
   "cell_type": "code",
   "execution_count": null,
   "metadata": {},
   "outputs": [
    {
     "name": "stderr",
     "output_type": "stream",
     "text": [
      "53998 total bigram: 28"
     ]
    }
   ],
   "source": [
    "top_distribs = calculate_top_distribs()"
   ]
  },
  {
   "cell_type": "code",
   "execution_count": 249,
   "metadata": {},
   "outputs": [],
   "source": [
    "bigramms_mean_std = calculate_mean_and_variance(top_distribs, top_bigrams_for_check['Частота'])"
   ]
  },
  {
   "cell_type": "markdown",
   "metadata": {},
   "source": [
    "* Выводим таблицу статистики"
   ]
  },
  {
   "cell_type": "code",
   "execution_count": 252,
   "metadata": {},
   "outputs": [
    {
     "data": {
      "text/html": [
       "<div>\n",
       "<table border=\"1\" class=\"dataframe\">\n",
       "  <thead>\n",
       "    <tr style=\"text-align: right;\">\n",
       "      <th></th>\n",
       "      <th>Частота</th>\n",
       "      <th>Mean</th>\n",
       "      <th>Std</th>\n",
       "    </tr>\n",
       "  </thead>\n",
       "  <tbody>\n",
       "    <tr>\n",
       "      <th>пресс служба</th>\n",
       "      <td>129071</td>\n",
       "      <td>-1.064374</td>\n",
       "      <td>1.230774</td>\n",
       "    </tr>\n",
       "    <tr>\n",
       "      <th>тот число</th>\n",
       "      <td>69728</td>\n",
       "      <td>-0.813762</td>\n",
       "      <td>2.234214</td>\n",
       "    </tr>\n",
       "    <tr>\n",
       "      <th>уголовный дело</th>\n",
       "      <td>57108</td>\n",
       "      <td>-0.969454</td>\n",
       "      <td>2.317335</td>\n",
       "    </tr>\n",
       "    <tr>\n",
       "      <th>риа новость</th>\n",
       "      <td>54353</td>\n",
       "      <td>-1.001122</td>\n",
       "      <td>0.183002</td>\n",
       "    </tr>\n",
       "    <tr>\n",
       "      <th>миллион рубль</th>\n",
       "      <td>52868</td>\n",
       "      <td>-0.973434</td>\n",
       "      <td>2.168581</td>\n",
       "    </tr>\n",
       "    <tr>\n",
       "      <th>настоящее время</th>\n",
       "      <td>44442</td>\n",
       "      <td>-1.121742</td>\n",
       "      <td>1.469904</td>\n",
       "    </tr>\n",
       "    <tr>\n",
       "      <th>миллиард рубль</th>\n",
       "      <td>44368</td>\n",
       "      <td>-0.692835</td>\n",
       "      <td>3.690560</td>\n",
       "    </tr>\n",
       "    <tr>\n",
       "      <th>прошлое год</th>\n",
       "      <td>43679</td>\n",
       "      <td>-1.791702</td>\n",
       "      <td>4.549470</td>\n",
       "    </tr>\n",
       "    <tr>\n",
       "      <th>владимир путин</th>\n",
       "      <td>41806</td>\n",
       "      <td>-1.007878</td>\n",
       "      <td>2.046794</td>\n",
       "    </tr>\n",
       "    <tr>\n",
       "      <th>российский федерация</th>\n",
       "      <td>37965</td>\n",
       "      <td>-0.702253</td>\n",
       "      <td>2.904589</td>\n",
       "    </tr>\n",
       "    <tr>\n",
       "      <th>такой образ</th>\n",
       "      <td>36246</td>\n",
       "      <td>-0.914430</td>\n",
       "      <td>1.762869</td>\n",
       "    </tr>\n",
       "    <tr>\n",
       "      <th>премьер министр</th>\n",
       "      <td>33102</td>\n",
       "      <td>-1.344328</td>\n",
       "      <td>2.636902</td>\n",
       "    </tr>\n",
       "  </tbody>\n",
       "</table>\n",
       "</div>"
      ],
      "text/plain": [
       "                      Частота      Mean       Std\n",
       "пресс служба           129071 -1.064374  1.230774\n",
       "тот число               69728 -0.813762  2.234214\n",
       "уголовный дело          57108 -0.969454  2.317335\n",
       "риа новость             54353 -1.001122  0.183002\n",
       "миллион рубль           52868 -0.973434  2.168581\n",
       "настоящее время         44442 -1.121742  1.469904\n",
       "миллиард рубль          44368 -0.692835  3.690560\n",
       "прошлое год             43679 -1.791702  4.549470\n",
       "владимир путин          41806 -1.007878  2.046794\n",
       "российский федерация    37965 -0.702253  2.904589\n",
       "такой образ             36246 -0.914430  1.762869\n",
       "премьер министр         33102 -1.344328  2.636902"
      ]
     },
     "execution_count": 252,
     "metadata": {},
     "output_type": "execute_result"
    }
   ],
   "source": [
    "get_pandas_table_for_mean_and_std( bigramms_mean_std )"
   ]
  },
  {
   "cell_type": "markdown",
   "metadata": {},
   "source": [
    "-----\n",
    "III - Статистическая проверка гипотез\n",
    "======\n",
    "-----\n",
    "## 1. Критерий Стьюдента. t - критерий "
   ]
  },
  {
   "cell_type": "markdown",
   "metadata": {},
   "source": [
    "Проверим гипотезу, что биграмма *\"миллион рублей\"* является коллокацией"
   ]
  },
  {
   "cell_type": "code",
   "execution_count": 259,
   "metadata": {
    "collapsed": true
   },
   "outputs": [],
   "source": [
    "def get_words_frequency(input_file, words_set, max_row_count=1e+6):\n",
    "    total_words = 0\n",
    "    with open(input_file) as ifile:\n",
    "        # итерация по всем документам\n",
    "        for i, line in enumerate(ifile):\n",
    "            parts = line.strip().split('\\t')\n",
    "            url = parts[0] # первое поле урл\n",
    "            # пропускаем пустые документы\n",
    "            if len(parts) <=1 : continue\n",
    "            # \n",
    "            for j, sentens in enumerate(parts[1:]):\n",
    "                sent = sentens.strip().split()\n",
    "                slen = len(sent)\n",
    "                if slen == 0: continue\n",
    "                \n",
    "                sent = [ ss.decode('utf-8') for ss in sent]\n",
    "                for iw, w in enumerate(sent):\n",
    "                    if w in words_set:\n",
    "                        words_set[w] = words_set[w] + 1\n",
    "                    total_words = total_words + 1\n",
    "                                \n",
    "            sys.stderr.write('\\r'+str(i) + \" total words: %d\"%total_words)\n",
    "            if i == max_row_count:\n",
    "                break\n",
    "    return total_words"
   ]
  },
  {
   "cell_type": "markdown",
   "metadata": {},
   "source": [
    "### Подсчитаем достоверность биграммы 'миллион рублей'"
   ]
  },
  {
   "cell_type": "code",
   "execution_count": 331,
   "metadata": {},
   "outputs": [
    {
     "name": "stderr",
     "output_type": "stream",
     "text": [
      "1000000 total words: 186419524"
     ]
    }
   ],
   "source": [
    "words_set = { u'миллион':0, u'рубль':0 } \n",
    "total_words = get_words_frequency(input_file, words_set)"
   ]
  },
  {
   "cell_type": "markdown",
   "metadata": {},
   "source": [
    "Считаем вероятности:<br>\n",
    "P(миллион)<br>\n",
    "P(рубль)"
   ]
  },
  {
   "cell_type": "code",
   "execution_count": 273,
   "metadata": {},
   "outputs": [
    {
     "name": "stdout",
     "output_type": "stream",
     "text": [
      "частота слова 'миллион': 215131 \n",
      "частота слова 'рубль': 268089 \n",
      "всего слов: 186419524\n",
      "\n",
      "P(миллион) = 0.0012\n",
      "P(рубль) = 0.0014\n",
      "H0 = P(миллион)*P(рубль) =  0.0000017\n"
     ]
    }
   ],
   "source": [
    "print \"частота слова 'миллион': %d \"%words_set[ u'миллион']\n",
    "print \"частота слова 'рубль': %d \"%words_set[ u'рубль']\n",
    "print \"всего слов: %d\\n\"%total_words\n",
    "print 'P(миллион) = %0.4f'%(float(words_set[ u'миллион']) / total_words) + '\\nP(рубль) = %0.4f'%(float(words_set[ u'рубль']) / total_words)\n",
    "print 'H0 = P(миллион)*P(рубль) =  %0.7f' % (float(words_set[ u'миллион']) / total_words * float(words_set[ u'рубль']) / total_words)"
   ]
  },
  {
   "cell_type": "markdown",
   "metadata": {},
   "source": [
    "Процесс рандомной генерации биграмм, в результате, превращается в попытки Бернулли: когда 1 соответствует присутствию биграммы о - отсутствию. В этом случе среднее и дисперсия для гипотезы:   "
   ]
  },
  {
   "cell_type": "code",
   "execution_count": 277,
   "metadata": {},
   "outputs": [
    {
     "name": "stdout",
     "output_type": "stream",
     "text": [
      "mean = p = 0.0000017\n",
      "var = p(1-p) = 0.00000166\n"
     ]
    }
   ],
   "source": [
    "p_gen =  (float(words_set[ u'миллион']) / total_words * float(words_set[ u'рубль']) / total_words) \n",
    "print \"mean = p = %0.7f\"%p_gen\n",
    "print \"var = p(1-p) = %0.8f\"%(p_gen*(1-p_gen)) "
   ]
  },
  {
   "cell_type": "markdown",
   "metadata": {},
   "source": [
    "Среднее же для целой биграммы, которая у нас встречается"
   ]
  },
  {
   "cell_type": "code",
   "execution_count": 280,
   "metadata": {},
   "outputs": [
    {
     "data": {
      "text/plain": [
       "52868"
      ]
     },
     "execution_count": 280,
     "metadata": {},
     "output_type": "execute_result"
    }
   ],
   "source": [
    "n_mil_rubl = top_bigrams_for_check['Частота'][u'миллион рубль']\n",
    "n_mil_rubl"
   ]
  },
  {
   "cell_type": "markdown",
   "metadata": {},
   "source": [
    " Учитывая,  что среднее и дисперсия примерно равны в нашем случае получаем"
   ]
  },
  {
   "cell_type": "code",
   "execution_count": 301,
   "metadata": {},
   "outputs": [
    {
     "name": "stdout",
     "output_type": "stream",
     "text": [
      "mean('миллион рубль') = var('миллион рубль') = p ('миллион рубль') = 0.0002836\n"
     ]
    }
   ],
   "source": [
    "x_mil_rub_mean = n_mil_rubl/float(total_words)\n",
    "print \"mean('миллион рубль') = var('миллион рубль') = p ('миллион рубль') = %0.7f\"%(x_mil_rub_mean)"
   ]
  },
  {
   "cell_type": "markdown",
   "metadata": {},
   "source": [
    "Проводим t - тест"
   ]
  },
  {
   "cell_type": "code",
   "execution_count": 302,
   "metadata": {},
   "outputs": [
    {
     "name": "stdout",
     "output_type": "stream",
     "text": [
      "t = 228.5848919\n"
     ]
    }
   ],
   "source": [
    "t_test = (x_mil_rub_mean - p_gen) / math.sqrt(x_mil_rub_mean / float(total_words) )\n",
    "print 't = %.7f'%t_test"
   ]
  },
  {
   "cell_type": "markdown",
   "metadata": {},
   "source": [
    "* t >> 2.576. Гипотезу о независимости слов в коллокации не принимаем"
   ]
  },
  {
   "cell_type": "markdown",
   "metadata": {},
   "source": [
    "### Теперь подсчитаем достоверность биграммы 'новая компания'"
   ]
  },
  {
   "cell_type": "code",
   "execution_count": 352,
   "metadata": {},
   "outputs": [
    {
     "name": "stderr",
     "output_type": "stream",
     "text": [
      "1000000 total words: 186419524"
     ]
    },
    {
     "data": {
      "text/plain": [
       "335"
      ]
     },
     "execution_count": 352,
     "metadata": {},
     "output_type": "execute_result"
    }
   ],
   "source": [
    "words_set2 = { u'новый':0, u'компания':0} \n",
    "total_words = get_words_frequency(input_file, words_set2)\n",
    "pos_bigramm_set[u'новый компания']"
   ]
  },
  {
   "cell_type": "code",
   "execution_count": 333,
   "metadata": {},
   "outputs": [],
   "source": [
    "def caclculate_t_crit(w1, w2, bigram,  total):\n",
    "    H0 = w1/float(total) * w2/float(total)\n",
    "    p_bigram = bigram / float(total)\n",
    "    return (p_bigram - H0)/math.sqrt(p_bigram/ float(total))"
   ]
  },
  {
   "cell_type": "code",
   "execution_count": 353,
   "metadata": {},
   "outputs": [
    {
     "name": "stdout",
     "output_type": "stream",
     "text": [
      "3.79729669979\n"
     ]
    }
   ],
   "source": [
    "t_crit = caclculate_t_crit(words_set2[u'новый'], words_set2[u'компания'], pos_bigramm_set[u'новый компания'], total_words)\n",
    "confidence_alfa =  2.576 \n",
    "print t_crit\n",
    "if t_crit < confidence_alfa:\n",
    "    print 't criterion less then confidence alfa: %.7f < 2.576, can not reject H0'%t_crit"
   ]
  },
  {
   "cell_type": "markdown",
   "metadata": {},
   "source": [
    "* В  этом случае мы отвергаем гипотезу 0 о независимости слов"
   ]
  },
  {
   "cell_type": "markdown",
   "metadata": {},
   "source": [
    "----\n",
    "## 2. Критерий Пирсона"
   ]
  },
  {
   "cell_type": "markdown",
   "metadata": {},
   "source": [
    "Рассчитаем распределение частотностей для 'новая компания'. "
   ]
  },
  {
   "cell_type": "code",
   "execution_count": 376,
   "metadata": {},
   "outputs": [
    {
     "name": "stdout",
     "output_type": "stream",
     "text": [
      "новый: \t\t211876\n",
      "компания: \t233599\n",
      "w1 = новый и w2 = компания: \t335\n",
      "w1 = новый и w2 не= компания: \t211541\n",
      "w2 = компания  и w1 не= новый: \t233264\n",
      "w2 не= компания и w1 не= новый: 185974049\n",
      "всего слов: \t\t186419524\n"
     ]
    }
   ],
   "source": [
    "print 'новый: \\t\\t%d'%words_set2[u'новый'] \n",
    "print 'компания: \\t%d'%words_set2[u'компания']\n",
    "print 'w1 = новый и w2 = компания: \\t%d'%pos_bigramm_set[u'новый компания'] \n",
    "print 'w1 = новый и w2 не= компания: \\t%d'% (words_set2[u'новый'] - pos_bigramm_set[u'новый компания'] )\n",
    "print 'w2 = компания  и w1 не= новый: \\t%d'% (words_set2[u'компания'] - pos_bigramm_set[u'новый компания'] )\n",
    "print 'w2 не= компания и w1 не= новый: %d'% (total_words - words_set2[u'компания'] - words_set2[u'новый'])\n",
    "print 'всего слов: \\t\\t%d'%total_words"
   ]
  },
  {
   "cell_type": "markdown",
   "metadata": {},
   "source": [
    "* ---\n",
    "Ожидаемая частота встречаемости биграммы 'новая компания' - это произведение предельных вероятностей для слов новый и компания умноженное на общее количество слов "
   ]
  },
  {
   "cell_type": "code",
   "execution_count": 377,
   "metadata": {},
   "outputs": [
    {
     "name": "stdout",
     "output_type": "stream",
     "text": [
      "E (новая компания) = 265.50\n"
     ]
    }
   ],
   "source": [
    "print 'E (новая компания) = %0.2f'% (words_set2[u'новый'] * words_set2[u'компания']/float(total_words) )"
   ]
  },
  {
   "cell_type": "code",
   "execution_count": 401,
   "metadata": {},
   "outputs": [],
   "source": [
    "X2_matrix = np.array( [[float(pos_bigramm_set[u'новый компания']) , float(words_set2[u'компания'] - pos_bigramm_set[u'новый компания'] )],\n",
    "                       [ float(words_set2[u'новый'] - pos_bigramm_set[u'новый компания'] ), float(total_words - words_set2[u'компания'] - words_set2[u'новый'])]] )"
   ]
  },
  {
   "cell_type": "code",
   "execution_count": 416,
   "metadata": {},
   "outputs": [
    {
     "name": "stdout",
     "output_type": "stream",
     "text": [
      "211541.0\n"
     ]
    }
   ],
   "source": [
    "print X2_matrix[1,0]"
   ]
  },
  {
   "cell_type": "markdown",
   "metadata": {},
   "source": [
    "Рассчитаем коитерий X^2"
   ]
  },
  {
   "cell_type": "code",
   "execution_count": 417,
   "metadata": {},
   "outputs": [
    {
     "name": "stdout",
     "output_type": "stream",
     "text": [
      "X^2 = 18.2375\n"
     ]
    }
   ],
   "source": [
    "X_2 = total_words * math.pow( X2_matrix[0,0] * X2_matrix[1,1] - X2_matrix[0,1] * X2_matrix[1,0], 2)\n",
    "mul = (X2_matrix[0,0] + X2_matrix[0,1]) * ( X2_matrix[0,0] + X2_matrix[1,0] ) \n",
    "mul = mul * (X2_matrix[0,1] + X2_matrix[1,1]) * ( X2_matrix[1,0] + X2_matrix[1,1])\n",
    "X_2 = X_2 / mul\n",
    "print \"X^2 = %0.4f\"%X_2"
   ]
  },
  {
   "cell_type": "markdown",
   "metadata": {},
   "source": [
    "* Гипотеза не может быть отброшена, не по одному уровню вероятности"
   ]
  },
  {
   "cell_type": "markdown",
   "metadata": {},
   "source": [
    "----\n",
    "## 3. Критерий отношения правдоподобия\n",
    "Построим отношения правдоподобия для биграм образованных словом мощный <br>\n",
    "* Считаем статистику по словам, входящим в биграмму слова мощный"
   ]
  },
  {
   "cell_type": "code",
   "execution_count": 432,
   "metadata": {},
   "outputs": [
    {
     "name": "stderr",
     "output_type": "stream",
     "text": [
      "1000000 total words: 186419524"
     ]
    },
    {
     "data": {
      "text/plain": [
       "186419524"
      ]
     },
     "execution_count": 432,
     "metadata": {},
     "output_type": "execute_result"
    }
   ],
   "source": [
    "words_for_powerfull = {}\n",
    "for bigram_pair in pos_bigramm_set.items():\n",
    "    if bigram_pair[0].split()[0] == u'мощный' and  bigram_pair[1] > 1:\n",
    "            words_for_powerfull[bigram_pair[0].split()[1] ] = 0\n",
    "words_for_powerfull[u'мощный'] = 0\n",
    "get_words_frequency(input_file, words_for_powerfull)"
   ]
  },
  {
   "cell_type": "markdown",
   "metadata": {},
   "source": [
    "* Рассчитываем отношения правдоподобия для каждой биграммы и делаем из нее таблицу pandas DataFrame\n",
    "c1 - частота первого слова <br>\n",
    "с2 - частота второго слова <br>\n",
    "с12 - частота биграммы <br>\n",
    "Вероятности: <br>\n",
    "p - вероятность слова 2 в биграмме <br>\n",
    "p1 - вероятность биграммы <br>\n",
    "p2 - вероятности слова 2 при условии отсутствия слова 1 <br>"
   ]
  },
  {
   "cell_type": "code",
   "execution_count": 448,
   "metadata": {},
   "outputs": [],
   "source": [
    "# определяем частоты\n",
    "c1  = float(words_for_powerfull[u'мощный'])\n",
    "N = float(total_words)\n",
    "\n",
    "# правдоподобия для биграмм\n",
    "bigram_likelyhoods = {}\n",
    "\n",
    "for power_full_pair in words_for_powerfull.items():\n",
    "    if  power_full_pair[0] == u'мощный': continue\n",
    "    \n",
    "    bigram = u'мощный ' + power_full_pair[0]\n",
    "    c12 = float(pos_bigramm_set[ bigram ]  )\n",
    "    c2 =  float(power_full_pair[1])\n",
    "    \n",
    "    p =  c2/ N\n",
    "    p1 = c12 / c1\n",
    "    p2 = (c2 - c12 ) / (N - c1)\n",
    "    \n",
    "    log_Lh1 = math.log(binom.cdf(c12, c1, p)) + math.log(binom.cdf(c2-c12, N- c1, p))\n",
    "    log_Lh2 = math.log(binom.cdf(c12, c1, p1)) + math.log(binom.cdf(c2-c12, N- c1, p2))\n",
    "    \n",
    "    likelyhood = -2*(log_Lh1 - log_Lh2)\n",
    "    \n",
    "    bigram_likelyhoods[bigram] = (likelyhood, c1, c2, c12 )\n",
    "\n",
    "# сортируем и строим таблицу pandas DataFrame\n",
    "sorted_bigrams_lh = sorted(bigram_likelyhoods.items(), key=operator.itemgetter(1), reverse=True)\n",
    "bigram_names = []\n",
    "bigram_vaues = []\n",
    "\n",
    "for i, k in enumerate(sorted_bigrams_lh):\n",
    "    if i > 30: break\n",
    "    bigram_names.append(k[0]) \n",
    "    bigram_vaues.append([k[1][0], k[1][1], k[1][2], k[1][3]])\n",
    "###        \n",
    "# Делаем таблицу pandas\n",
    "###\n",
    "dt = ['-2log Lh', 'C1', 'C2', 'C12']\n",
    "values = np.asarray(bigram_vaues)\n",
    "index = bigram_names\n",
    "pandas_bigrams_lh = pandas.DataFrame(values, index=index, columns=dt)"
   ]
  },
  {
   "cell_type": "code",
   "execution_count": 449,
   "metadata": {},
   "outputs": [
    {
     "data": {
      "text/html": [
       "<div>\n",
       "<table border=\"1\" class=\"dataframe\">\n",
       "  <thead>\n",
       "    <tr style=\"text-align: right;\">\n",
       "      <th></th>\n",
       "      <th>-2log Lh</th>\n",
       "      <th>C1</th>\n",
       "      <th>C2</th>\n",
       "      <th>C12</th>\n",
       "    </tr>\n",
       "  </thead>\n",
       "  <tbody>\n",
       "    <tr>\n",
       "      <th>мощный россия</th>\n",
       "      <td>66.800607</td>\n",
       "      <td>14709</td>\n",
       "      <td>513837</td>\n",
       "      <td>2</td>\n",
       "    </tr>\n",
       "    <tr>\n",
       "      <th>мощный землетрясение</th>\n",
       "      <td>58.521963</td>\n",
       "      <td>14709</td>\n",
       "      <td>5490</td>\n",
       "      <td>543</td>\n",
       "    </tr>\n",
       "    <tr>\n",
       "      <th>мощный взрыв</th>\n",
       "      <td>44.635622</td>\n",
       "      <td>14709</td>\n",
       "      <td>20928</td>\n",
       "      <td>930</td>\n",
       "    </tr>\n",
       "    <tr>\n",
       "      <th>мощный работа</th>\n",
       "      <td>19.562579</td>\n",
       "      <td>14709</td>\n",
       "      <td>242103</td>\n",
       "      <td>4</td>\n",
       "    </tr>\n",
       "    <tr>\n",
       "      <th>мощный город</th>\n",
       "      <td>15.886387</td>\n",
       "      <td>14709</td>\n",
       "      <td>212631</td>\n",
       "      <td>4</td>\n",
       "    </tr>\n",
       "    <tr>\n",
       "      <th>мощный решение</th>\n",
       "      <td>15.403840</td>\n",
       "      <td>14709</td>\n",
       "      <td>185295</td>\n",
       "      <td>3</td>\n",
       "    </tr>\n",
       "    <tr>\n",
       "      <th>мощный матч</th>\n",
       "      <td>14.409602</td>\n",
       "      <td>14709</td>\n",
       "      <td>222457</td>\n",
       "      <td>5</td>\n",
       "    </tr>\n",
       "    <tr>\n",
       "      <th>мощный результат</th>\n",
       "      <td>14.223097</td>\n",
       "      <td>14709</td>\n",
       "      <td>175997</td>\n",
       "      <td>3</td>\n",
       "    </tr>\n",
       "    <tr>\n",
       "      <th>мощный пресс</th>\n",
       "      <td>13.519567</td>\n",
       "      <td>14709</td>\n",
       "      <td>193078</td>\n",
       "      <td>4</td>\n",
       "    </tr>\n",
       "    <tr>\n",
       "      <th>мощный регион</th>\n",
       "      <td>10.386798</td>\n",
       "      <td>14709</td>\n",
       "      <td>144900</td>\n",
       "      <td>3</td>\n",
       "    </tr>\n",
       "    <tr>\n",
       "      <th>мощный компания</th>\n",
       "      <td>9.347741</td>\n",
       "      <td>14709</td>\n",
       "      <td>233599</td>\n",
       "      <td>8</td>\n",
       "    </tr>\n",
       "    <tr>\n",
       "      <th>мощный удар</th>\n",
       "      <td>8.503710</td>\n",
       "      <td>14709</td>\n",
       "      <td>34178</td>\n",
       "      <td>498</td>\n",
       "    </tr>\n",
       "    <tr>\n",
       "      <th>мощный возможность</th>\n",
       "      <td>8.167626</td>\n",
       "      <td>14709</td>\n",
       "      <td>104656</td>\n",
       "      <td>2</td>\n",
       "    </tr>\n",
       "    <tr>\n",
       "      <th>мощный импульс</th>\n",
       "      <td>7.259223</td>\n",
       "      <td>14709</td>\n",
       "      <td>2434</td>\n",
       "      <td>121</td>\n",
       "    </tr>\n",
       "    <tr>\n",
       "      <th>мощный антиоксидант</th>\n",
       "      <td>6.316128</td>\n",
       "      <td>14709</td>\n",
       "      <td>925</td>\n",
       "      <td>69</td>\n",
       "    </tr>\n",
       "    <tr>\n",
       "      <th>мощный участник</th>\n",
       "      <td>6.304735</td>\n",
       "      <td>14709</td>\n",
       "      <td>89332</td>\n",
       "      <td>2</td>\n",
       "    </tr>\n",
       "    <tr>\n",
       "      <th>мощный толчок</th>\n",
       "      <td>5.988311</td>\n",
       "      <td>14709</td>\n",
       "      <td>3637</td>\n",
       "      <td>134</td>\n",
       "    </tr>\n",
       "    <tr>\n",
       "      <th>мощный представитель</th>\n",
       "      <td>5.530025</td>\n",
       "      <td>14709</td>\n",
       "      <td>138946</td>\n",
       "      <td>5</td>\n",
       "    </tr>\n",
       "    <tr>\n",
       "      <th>мощный плавник</th>\n",
       "      <td>5.408653</td>\n",
       "      <td>14709</td>\n",
       "      <td>86</td>\n",
       "      <td>19</td>\n",
       "    </tr>\n",
       "    <tr>\n",
       "      <th>мощный руководитель</th>\n",
       "      <td>5.172887</td>\n",
       "      <td>14709</td>\n",
       "      <td>79664</td>\n",
       "      <td>2</td>\n",
       "    </tr>\n",
       "    <tr>\n",
       "      <th>мощный процессор</th>\n",
       "      <td>5.141078</td>\n",
       "      <td>14709</td>\n",
       "      <td>3944</td>\n",
       "      <td>129</td>\n",
       "    </tr>\n",
       "    <tr>\n",
       "      <th>мощный стимул</th>\n",
       "      <td>4.605350</td>\n",
       "      <td>14709</td>\n",
       "      <td>2558</td>\n",
       "      <td>98</td>\n",
       "    </tr>\n",
       "    <tr>\n",
       "      <th>мощный первое</th>\n",
       "      <td>4.526773</td>\n",
       "      <td>14709</td>\n",
       "      <td>92752</td>\n",
       "      <td>3</td>\n",
       "    </tr>\n",
       "    <tr>\n",
       "      <th>мощный базис</th>\n",
       "      <td>4.153328</td>\n",
       "      <td>14709</td>\n",
       "      <td>239</td>\n",
       "      <td>28</td>\n",
       "    </tr>\n",
       "    <tr>\n",
       "      <th>мощный образ</th>\n",
       "      <td>4.061203</td>\n",
       "      <td>14709</td>\n",
       "      <td>69798</td>\n",
       "      <td>2</td>\n",
       "    </tr>\n",
       "    <tr>\n",
       "      <th>мощный граница</th>\n",
       "      <td>3.767401</td>\n",
       "      <td>14709</td>\n",
       "      <td>67112</td>\n",
       "      <td>2</td>\n",
       "    </tr>\n",
       "    <tr>\n",
       "      <th>мощный орган</th>\n",
       "      <td>3.509477</td>\n",
       "      <td>14709</td>\n",
       "      <td>82553</td>\n",
       "      <td>3</td>\n",
       "    </tr>\n",
       "    <tr>\n",
       "      <th>мощный позиция</th>\n",
       "      <td>3.261025</td>\n",
       "      <td>14709</td>\n",
       "      <td>62387</td>\n",
       "      <td>2</td>\n",
       "    </tr>\n",
       "    <tr>\n",
       "      <th>мощный тайфун</th>\n",
       "      <td>3.239385</td>\n",
       "      <td>14709</td>\n",
       "      <td>3196</td>\n",
       "      <td>92</td>\n",
       "    </tr>\n",
       "    <tr>\n",
       "      <th>мощный ливень</th>\n",
       "      <td>3.051796</td>\n",
       "      <td>14709</td>\n",
       "      <td>1551</td>\n",
       "      <td>62</td>\n",
       "    </tr>\n",
       "    <tr>\n",
       "      <th>мощный 20мр</th>\n",
       "      <td>2.844148</td>\n",
       "      <td>14709</td>\n",
       "      <td>17</td>\n",
       "      <td>6</td>\n",
       "    </tr>\n",
       "  </tbody>\n",
       "</table>\n",
       "</div>"
      ],
      "text/plain": [
       "                       -2log Lh     C1      C2  C12\n",
       "мощный россия         66.800607  14709  513837    2\n",
       "мощный землетрясение  58.521963  14709    5490  543\n",
       "мощный взрыв          44.635622  14709   20928  930\n",
       "мощный работа         19.562579  14709  242103    4\n",
       "мощный город          15.886387  14709  212631    4\n",
       "мощный решение        15.403840  14709  185295    3\n",
       "мощный матч           14.409602  14709  222457    5\n",
       "мощный результат      14.223097  14709  175997    3\n",
       "мощный пресс          13.519567  14709  193078    4\n",
       "мощный регион         10.386798  14709  144900    3\n",
       "мощный компания        9.347741  14709  233599    8\n",
       "мощный удар            8.503710  14709   34178  498\n",
       "мощный возможность     8.167626  14709  104656    2\n",
       "мощный импульс         7.259223  14709    2434  121\n",
       "мощный антиоксидант    6.316128  14709     925   69\n",
       "мощный участник        6.304735  14709   89332    2\n",
       "мощный толчок          5.988311  14709    3637  134\n",
       "мощный представитель   5.530025  14709  138946    5\n",
       "мощный плавник         5.408653  14709      86   19\n",
       "мощный руководитель    5.172887  14709   79664    2\n",
       "мощный процессор       5.141078  14709    3944  129\n",
       "мощный стимул          4.605350  14709    2558   98\n",
       "мощный первое          4.526773  14709   92752    3\n",
       "мощный базис           4.153328  14709     239   28\n",
       "мощный образ           4.061203  14709   69798    2\n",
       "мощный граница         3.767401  14709   67112    2\n",
       "мощный орган           3.509477  14709   82553    3\n",
       "мощный позиция         3.261025  14709   62387    2\n",
       "мощный тайфун          3.239385  14709    3196   92\n",
       "мощный ливень          3.051796  14709    1551   62\n",
       "мощный 20мр            2.844148  14709      17    6"
      ]
     },
     "execution_count": 449,
     "metadata": {},
     "output_type": "execute_result"
    }
   ],
   "source": [
    "pandas_bigrams_lh"
   ]
  },
  {
   "cell_type": "markdown",
   "metadata": {},
   "source": [
    "---- \n",
    "## Взаимная информация\n",
    "\n",
    "Рассчитаем точечную взаимную информацию (PMI) для биграм со словом мощный"
   ]
  },
  {
   "cell_type": "code",
   "execution_count": 478,
   "metadata": {},
   "outputs": [],
   "source": [
    "bigram_mutual_info = {}\n",
    "log_2 = math.log(2.)\n",
    "for bigramm  in bigram_likelyhoods.items():\n",
    "    p_xy = bigramm[1][3] / float(total_words)\n",
    "    p_x = bigramm[1][1] / float(total_words)\n",
    "    p_y = bigramm[1][2] / float(total_words)\n",
    "    over = p_xy/(p_x*p_y)\n",
    "    bits = math.log(over)/log_2\n",
    "    bigram_mutual_info[bigramm[0]] = ( bits, p_xy * bits, bigramm[1][1], bigramm[1][2], bigramm[1][3])\n",
    "sorted_bigrams_mi = sorted(bigram_mutual_info.items(), key=operator.itemgetter(1), reverse=True)\n",
    "bigram_names = []\n",
    "bigram_vaues = []\n",
    "\n",
    "for i, k in enumerate(sorted_bigrams_mi):\n",
    "    if i > 30: break\n",
    "    bigram_names.append(k[0]) \n",
    "    bigram_vaues.append([k[1][0], k[1][1], k[1][2], k[1][3], k[1][4]])\n",
    "###        \n",
    "# Делаем таблицу pandas\n",
    "###\n",
    "dt = ['pmi', 'mi', 'C1', 'C2', 'C12']\n",
    "values = np.asarray(bigram_vaues)\n",
    "index = bigram_names\n",
    "pandas_bigrams_mi = pandas.DataFrame(values, index=index, columns=dt)    "
   ]
  },
  {
   "cell_type": "markdown",
   "metadata": {},
   "source": [
    "* Выводим таблицу значений"
   ]
  },
  {
   "cell_type": "code",
   "execution_count": 479,
   "metadata": {},
   "outputs": [
    {
     "data": {
      "text/html": [
       "<div>\n",
       "<table border=\"1\" class=\"dataframe\">\n",
       "  <thead>\n",
       "    <tr style=\"text-align: right;\">\n",
       "      <th></th>\n",
       "      <th>pmi</th>\n",
       "      <th>mi</th>\n",
       "      <th>C1</th>\n",
       "      <th>C2</th>\n",
       "      <th>C12</th>\n",
       "    </tr>\n",
       "  </thead>\n",
       "  <tbody>\n",
       "    <tr>\n",
       "      <th>мощный 23мр</th>\n",
       "      <td>12.629566</td>\n",
       "      <td>1.354962e-07</td>\n",
       "      <td>14709</td>\n",
       "      <td>4</td>\n",
       "      <td>2</td>\n",
       "    </tr>\n",
       "    <tr>\n",
       "      <th>мощный 20мр</th>\n",
       "      <td>12.127066</td>\n",
       "      <td>3.903153e-07</td>\n",
       "      <td>14709</td>\n",
       "      <td>17</td>\n",
       "      <td>6</td>\n",
       "    </tr>\n",
       "    <tr>\n",
       "      <th>мощный наркос</th>\n",
       "      <td>12.044604</td>\n",
       "      <td>1.292204e-07</td>\n",
       "      <td>14709</td>\n",
       "      <td>6</td>\n",
       "      <td>2</td>\n",
       "    </tr>\n",
       "    <tr>\n",
       "      <th>мощный медиаимперия</th>\n",
       "      <td>11.822211</td>\n",
       "      <td>1.268345e-07</td>\n",
       "      <td>14709</td>\n",
       "      <td>7</td>\n",
       "      <td>2</td>\n",
       "    </tr>\n",
       "    <tr>\n",
       "      <th>мощный дожимной</th>\n",
       "      <td>11.542103</td>\n",
       "      <td>2.476587e-07</td>\n",
       "      <td>14709</td>\n",
       "      <td>17</td>\n",
       "      <td>4</td>\n",
       "    </tr>\n",
       "    <tr>\n",
       "      <th>мощный иммунодепрессант</th>\n",
       "      <td>11.542103</td>\n",
       "      <td>2.476587e-07</td>\n",
       "      <td>14709</td>\n",
       "      <td>17</td>\n",
       "      <td>4</td>\n",
       "    </tr>\n",
       "    <tr>\n",
       "      <th>мощный нейротоксин</th>\n",
       "      <td>11.492063</td>\n",
       "      <td>3.082312e-07</td>\n",
       "      <td>14709</td>\n",
       "      <td>22</td>\n",
       "      <td>5</td>\n",
       "    </tr>\n",
       "    <tr>\n",
       "      <th>мощный антипиар</th>\n",
       "      <td>11.459641</td>\n",
       "      <td>2.458893e-07</td>\n",
       "      <td>14709</td>\n",
       "      <td>18</td>\n",
       "      <td>4</td>\n",
       "    </tr>\n",
       "    <tr>\n",
       "      <th>мощный плавник</th>\n",
       "      <td>11.451229</td>\n",
       "      <td>1.167117e-06</td>\n",
       "      <td>14709</td>\n",
       "      <td>86</td>\n",
       "      <td>19</td>\n",
       "    </tr>\n",
       "    <tr>\n",
       "      <th>мощный жиросжигатель</th>\n",
       "      <td>11.381639</td>\n",
       "      <td>2.442156e-07</td>\n",
       "      <td>14709</td>\n",
       "      <td>19</td>\n",
       "      <td>4</td>\n",
       "    </tr>\n",
       "    <tr>\n",
       "      <th>мощный излияние</th>\n",
       "      <td>11.214529</td>\n",
       "      <td>1.804724e-07</td>\n",
       "      <td>14709</td>\n",
       "      <td>16</td>\n",
       "      <td>3</td>\n",
       "    </tr>\n",
       "    <tr>\n",
       "      <th>мощный электроразряд</th>\n",
       "      <td>11.170135</td>\n",
       "      <td>1.198387e-07</td>\n",
       "      <td>14709</td>\n",
       "      <td>11</td>\n",
       "      <td>2</td>\n",
       "    </tr>\n",
       "    <tr>\n",
       "      <th>мощный 21мр</th>\n",
       "      <td>11.044604</td>\n",
       "      <td>1.777379e-07</td>\n",
       "      <td>14709</td>\n",
       "      <td>18</td>\n",
       "      <td>3</td>\n",
       "    </tr>\n",
       "    <tr>\n",
       "      <th>мощный кусачки</th>\n",
       "      <td>10.951494</td>\n",
       "      <td>2.937325e-07</td>\n",
       "      <td>14709</td>\n",
       "      <td>32</td>\n",
       "      <td>5</td>\n",
       "    </tr>\n",
       "    <tr>\n",
       "      <th>мощный пиропатрон</th>\n",
       "      <td>10.892601</td>\n",
       "      <td>1.752917e-07</td>\n",
       "      <td>14709</td>\n",
       "      <td>20</td>\n",
       "      <td>3</td>\n",
       "    </tr>\n",
       "    <tr>\n",
       "      <th>мощный базис</th>\n",
       "      <td>10.536054</td>\n",
       "      <td>1.582503e-06</td>\n",
       "      <td>14709</td>\n",
       "      <td>239</td>\n",
       "      <td>28</td>\n",
       "    </tr>\n",
       "    <tr>\n",
       "      <th>мощный айпад</th>\n",
       "      <td>10.307638</td>\n",
       "      <td>1.658781e-07</td>\n",
       "      <td>14709</td>\n",
       "      <td>30</td>\n",
       "      <td>3</td>\n",
       "    </tr>\n",
       "    <tr>\n",
       "      <th>мощный видеоадаптер</th>\n",
       "      <td>10.307638</td>\n",
       "      <td>1.105854e-07</td>\n",
       "      <td>14709</td>\n",
       "      <td>20</td>\n",
       "      <td>2</td>\n",
       "    </tr>\n",
       "    <tr>\n",
       "      <th>мощный землетрясение</th>\n",
       "      <td>10.291784</td>\n",
       "      <td>2.997775e-05</td>\n",
       "      <td>14709</td>\n",
       "      <td>5490</td>\n",
       "      <td>543</td>\n",
       "    </tr>\n",
       "    <tr>\n",
       "      <th>мощный стопперо</th>\n",
       "      <td>10.237249</td>\n",
       "      <td>1.098302e-07</td>\n",
       "      <td>14709</td>\n",
       "      <td>21</td>\n",
       "      <td>2</td>\n",
       "    </tr>\n",
       "    <tr>\n",
       "      <th>мощный турбогенератор</th>\n",
       "      <td>10.184781</td>\n",
       "      <td>4.917030e-07</td>\n",
       "      <td>14709</td>\n",
       "      <td>98</td>\n",
       "      <td>9</td>\n",
       "    </tr>\n",
       "    <tr>\n",
       "      <th>мощный масл</th>\n",
       "      <td>10.170135</td>\n",
       "      <td>1.091102e-07</td>\n",
       "      <td>14709</td>\n",
       "      <td>22</td>\n",
       "      <td>2</td>\n",
       "    </tr>\n",
       "    <tr>\n",
       "      <th>мощный движитель</th>\n",
       "      <td>10.106004</td>\n",
       "      <td>1.084222e-07</td>\n",
       "      <td>14709</td>\n",
       "      <td>23</td>\n",
       "      <td>2</td>\n",
       "    </tr>\n",
       "    <tr>\n",
       "      <th>мощный щелчок</th>\n",
       "      <td>9.999516</td>\n",
       "      <td>1.126437e-06</td>\n",
       "      <td>14709</td>\n",
       "      <td>260</td>\n",
       "      <td>21</td>\n",
       "    </tr>\n",
       "    <tr>\n",
       "      <th>мощный циклотрон</th>\n",
       "      <td>9.985710</td>\n",
       "      <td>2.142632e-07</td>\n",
       "      <td>14709</td>\n",
       "      <td>50</td>\n",
       "      <td>4</td>\n",
       "    </tr>\n",
       "    <tr>\n",
       "      <th>мощный антиоксидант</th>\n",
       "      <td>9.884781</td>\n",
       "      <td>3.658683e-06</td>\n",
       "      <td>14709</td>\n",
       "      <td>925</td>\n",
       "      <td>69</td>\n",
       "    </tr>\n",
       "    <tr>\n",
       "      <th>мощный автотрансформатор</th>\n",
       "      <td>9.690967</td>\n",
       "      <td>1.559542e-07</td>\n",
       "      <td>14709</td>\n",
       "      <td>46</td>\n",
       "      <td>3</td>\n",
       "    </tr>\n",
       "    <tr>\n",
       "      <th>мощный прожектор</th>\n",
       "      <td>9.647714</td>\n",
       "      <td>7.762905e-07</td>\n",
       "      <td>14709</td>\n",
       "      <td>237</td>\n",
       "      <td>15</td>\n",
       "    </tr>\n",
       "    <tr>\n",
       "      <th>мощный взаимодополняемость</th>\n",
       "      <td>9.629566</td>\n",
       "      <td>1.033107e-07</td>\n",
       "      <td>14709</td>\n",
       "      <td>32</td>\n",
       "      <td>2</td>\n",
       "    </tr>\n",
       "    <tr>\n",
       "      <th>мощный нефтехранилище</th>\n",
       "      <td>9.521042</td>\n",
       "      <td>2.042928e-07</td>\n",
       "      <td>14709</td>\n",
       "      <td>69</td>\n",
       "      <td>4</td>\n",
       "    </tr>\n",
       "    <tr>\n",
       "      <th>мощный людской</th>\n",
       "      <td>9.500283</td>\n",
       "      <td>2.038474e-07</td>\n",
       "      <td>14709</td>\n",
       "      <td>70</td>\n",
       "      <td>4</td>\n",
       "    </tr>\n",
       "  </tbody>\n",
       "</table>\n",
       "</div>"
      ],
      "text/plain": [
       "                                  pmi            mi     C1    C2  C12\n",
       "мощный 23мр                 12.629566  1.354962e-07  14709     4    2\n",
       "мощный 20мр                 12.127066  3.903153e-07  14709    17    6\n",
       "мощный наркос               12.044604  1.292204e-07  14709     6    2\n",
       "мощный медиаимперия         11.822211  1.268345e-07  14709     7    2\n",
       "мощный дожимной             11.542103  2.476587e-07  14709    17    4\n",
       "мощный иммунодепрессант     11.542103  2.476587e-07  14709    17    4\n",
       "мощный нейротоксин          11.492063  3.082312e-07  14709    22    5\n",
       "мощный антипиар             11.459641  2.458893e-07  14709    18    4\n",
       "мощный плавник              11.451229  1.167117e-06  14709    86   19\n",
       "мощный жиросжигатель        11.381639  2.442156e-07  14709    19    4\n",
       "мощный излияние             11.214529  1.804724e-07  14709    16    3\n",
       "мощный электроразряд        11.170135  1.198387e-07  14709    11    2\n",
       "мощный 21мр                 11.044604  1.777379e-07  14709    18    3\n",
       "мощный кусачки              10.951494  2.937325e-07  14709    32    5\n",
       "мощный пиропатрон           10.892601  1.752917e-07  14709    20    3\n",
       "мощный базис                10.536054  1.582503e-06  14709   239   28\n",
       "мощный айпад                10.307638  1.658781e-07  14709    30    3\n",
       "мощный видеоадаптер         10.307638  1.105854e-07  14709    20    2\n",
       "мощный землетрясение        10.291784  2.997775e-05  14709  5490  543\n",
       "мощный стопперо             10.237249  1.098302e-07  14709    21    2\n",
       "мощный турбогенератор       10.184781  4.917030e-07  14709    98    9\n",
       "мощный масл                 10.170135  1.091102e-07  14709    22    2\n",
       "мощный движитель            10.106004  1.084222e-07  14709    23    2\n",
       "мощный щелчок                9.999516  1.126437e-06  14709   260   21\n",
       "мощный циклотрон             9.985710  2.142632e-07  14709    50    4\n",
       "мощный антиоксидант          9.884781  3.658683e-06  14709   925   69\n",
       "мощный автотрансформатор     9.690967  1.559542e-07  14709    46    3\n",
       "мощный прожектор             9.647714  7.762905e-07  14709   237   15\n",
       "мощный взаимодополняемость   9.629566  1.033107e-07  14709    32    2\n",
       "мощный нефтехранилище        9.521042  2.042928e-07  14709    69    4\n",
       "мощный людской               9.500283  2.038474e-07  14709    70    4"
      ]
     },
     "execution_count": 479,
     "metadata": {},
     "output_type": "execute_result"
    }
   ],
   "source": [
    "pandas_bigrams_mi"
   ]
  },
  {
   "cell_type": "code",
   "execution_count": null,
   "metadata": {
    "collapsed": true
   },
   "outputs": [],
   "source": []
  }
 ],
 "metadata": {
  "kernelspec": {
   "display_name": "Python 3",
   "language": "python",
   "name": "python3"
  },
  "language_info": {
   "codemirror_mode": {
    "name": "ipython",
    "version": 3
   },
   "file_extension": ".py",
   "mimetype": "text/x-python",
   "name": "python",
   "nbconvert_exporter": "python",
   "pygments_lexer": "ipython3",
   "version": "3.6.4"
  }
 },
 "nbformat": 4,
 "nbformat_minor": 1
}
